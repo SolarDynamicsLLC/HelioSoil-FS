{
 "cells": [
  {
   "cell_type": "markdown",
   "metadata": {},
   "source": [
    "# Notebook demonstrating fitting of $hrz0$ to site data\n",
    "The below code shows how to use data from fixed-tilt experiments to compute the free parameter $hrz0$. The dust distribution is currently assumed and its parameters are defined in the file `parameters_qut_experiments.xlsx`."
   ]
  },
  {
   "cell_type": "code",
   "execution_count": 1,
   "metadata": {},
   "outputs": [],
   "source": [
    "import numpy as np\n",
    "import soiling_model.base_models as smb\n",
    "import soiling_model.utilities as smu\n",
    "import os\n",
    "import pandas as pd\n",
    "from matplotlib import pyplot as plt\n",
    "from matplotlib import (rcParams,dates)\n",
    "import pickle\n",
    "import copy\n",
    "rcParams['figure.figsize'] = (30, 5)\n",
    "%matplotlib qt\n",
    "\n",
    "mle_save_file = \"results/mle_fitting_results\"\n",
    "reflectometer_angle = 15 # angle of incidence of reflectometer\n",
    "k_factor = 2.404 # calibration factor for TSP measurements in experiments\n",
    "second_surf = False # use first surface model\n",
    "d = \"data/public/qut_experiments/\"\n",
    "files = ['experiment_20170807_20170811_cinque.xlsx','experiment_20170828_20170901_cinque.xlsx',\\\n",
    "    'experiment_20170905_20170913_cinque.xlsx','experiment_20170915_20170921_cinque.xlsx']\n",
    "training_intervals = [  np.array(['2017-08-07T00:00:00','2017-08-10T00:00:00'],dtype=np.datetime64),\n",
    "                        np.array(['2017-08-28T00:00:00','2022-09-02T00:00:00'],dtype=np.datetime64),\n",
    "                        np.array(['2022-09-05T00:00:00','2022-09-14T00:00:00'],dtype=np.datetime64),\n",
    "                        np.array(['2022-09-15T00:00:00','2022-09-22T00:00:00'],dtype=np.datetime64)]\n",
    "parameter_file = d+\"parameters_qut_experiments.xlsx\""
   ]
  },
  {
   "cell_type": "markdown",
   "metadata": {},
   "source": [
    "## Multiple experiment fitting example"
   ]
  },
  {
   "cell_type": "code",
   "execution_count": 2,
   "metadata": {},
   "outputs": [
    {
     "name": "stdout",
     "output_type": "stream",
     "text": [
      "Importing constants\n",
      "Importing site data (weather,time). Using dust_type = TSP, test_length = 102 hours\n",
      "Length of simulation for file data/public/qut_experiments/experiment_20170807_20170811_cinque.xlsx: 4.0 days\n",
      "No DNI data to import. Skipping.\n",
      "No rain intensity data to import.\n",
      "No relative humidity data to import.\n",
      "Importing site data (weather,time). Using dust_type = TSP, test_length = 96 hours\n",
      "Length of simulation for file data/public/qut_experiments/experiment_20170828_20170901_cinque.xlsx: 4.0 days\n",
      "No DNI data to import. Skipping.\n",
      "No rain intensity data to import.\n",
      "No relative humidity data to import.\n",
      "Importing dust properties for each experiment\n",
      "Importing site data (weather,time). Using dust_type = TSP, test_length = 102 hours\n",
      "Length of simulation for file data/public/qut_experiments/experiment_20170807_20170811_cinque.xlsx: 4.0 days\n",
      "No DNI data to import. Skipping.\n",
      "No rain intensity data to import.\n",
      "No relative humidity data to import.\n",
      "Importing site data (weather,time). Using dust_type = TSP, test_length = 96 hours\n",
      "Length of simulation for file data/public/qut_experiments/experiment_20170828_20170901_cinque.xlsx: 4.0 days\n",
      "No DNI data to import. Skipping.\n",
      "No rain intensity data to import.\n",
      "No relative humidity data to import.\n",
      "Importing site data (weather,time). Using dust_type = TSP, test_length = 200 hours\n",
      "Length of simulation for file data/public/qut_experiments/experiment_20170905_20170913_cinque.xlsx: 8.0 days\n",
      "No DNI data to import. Skipping.\n",
      "No rain intensity data to import.\n",
      "No relative humidity data to import.\n",
      "Importing site data (weather,time). Using dust_type = TSP, test_length = 154 hours\n",
      "Length of simulation for file data/public/qut_experiments/experiment_20170915_20170921_cinque.xlsx: 6.0 days\n",
      "No DNI data to import. Skipping.\n",
      "No rain intensity data to import.\n",
      "No relative humidity data to import.\n",
      "Importing dust properties for each experiment\n"
     ]
    }
   ],
   "source": [
    "train_experiments = [0,1] # indices for training experiments from 0 to len(files)\n",
    "train_mirrors = [\"Mirror_1\",\"Mirror_2\"] # which mirrors within the experiments are used for training\n",
    "files_experiment = [d+files[ii] for ii in range(len(files))]\n",
    "Nfiles = len(files_experiment)\n",
    "k_factors = [k_factor]*Nfiles\n",
    "incidence_angle = [15.0]*Nfiles\n",
    "dust_types = [\"TSP\"]*Nfiles\n",
    "\n",
    "extract = lambda x,ind: [x[ii] for ii in ind]\n",
    "files_experiment_train = extract(files_experiment,train_experiments)\n",
    "k_factors_train = extract(k_factors,train_experiments)\n",
    "dust_types_train = extract(dust_types,train_experiments)\n",
    "incidence_angle_train = extract(incidence_angle,train_experiments)\n",
    "t = [t+1 for t in train_experiments]\n",
    "training_string = \"Training: \"+str(train_mirrors)+\", Exp: \"+str(t)\n",
    "\n",
    "imodel = smb.fitting_experiment(parameter_file)\n",
    "sim_data_train = smb.simulation_inputs(files_experiment_train,k_factors=k_factors_train,dust_types=dust_types_train)\n",
    "reflect_data_train = smb.reflectance_measurements(files_experiment_train,sim_data_train.time,number_of_measurements=9.0,\\\n",
    "    reflectometer_incidence_angle=incidence_angle_train,import_tilts=True,column_names_to_import=train_mirrors)\n",
    "\n",
    "sim_data_train,reflect_data_train = smu.trim_experiment_data(sim_data_train,reflect_data_train,training_intervals)\n",
    "\n",
    "sim_data_total = smb.simulation_inputs(files_experiment,k_factors=k_factors,dust_types=dust_types)\n",
    "reflect_data_total = smb.reflectance_measurements(files_experiment,sim_data_total.time,number_of_measurements=9.0,\\\n",
    "    reflectometer_incidence_angle=incidence_angle,import_tilts=True,column_names_to_import=None)\n"
   ]
  },
  {
   "cell_type": "code",
   "execution_count": 3,
   "metadata": {},
   "outputs": [
    {
     "data": {
      "text/plain": [
       "Text(0.5, 0.98, 'Training Data for file experiment_20170807_20170811_cinque.xlsx')"
      ]
     },
     "execution_count": 3,
     "metadata": {},
     "output_type": "execute_result"
    }
   ],
   "source": [
    "experiment = 0\n",
    "fig,ax = smu.plot_experiment_data(sim_data_train,reflect_data_train,experiment)\n",
    "fig.suptitle(f\"Training Data for file {files[experiment]}\")"
   ]
  },
  {
   "cell_type": "markdown",
   "metadata": {},
   "source": [
    "Fitting. Use training data only."
   ]
  },
  {
   "cell_type": "code",
   "execution_count": 4,
   "metadata": {},
   "outputs": [
    {
     "name": "stdout",
     "output_type": "stream",
     "text": [
      "Setting tilts for 2 experiments\n",
      "First surface model\n",
      "First surface model\n",
      "Fitting hrz0 with least squares ...\n",
      "... done! \n",
      " hrz0 = 2.066364301958375\n"
     ]
    }
   ],
   "source": [
    "imodel.helios_angles(sim_data_train,reflect_data_train,second_surface=second_surf)\n",
    "hrz0_multi,sse_multi = imodel.fit_hrz0_least_squares(sim_data_train,reflect_data_train)\n",
    "imodel.update_model_parameters(hrz0_multi)"
   ]
  },
  {
   "cell_type": "code",
   "execution_count": 7,
   "metadata": {},
   "outputs": [
    {
     "name": "stdout",
     "output_type": "stream",
     "text": [
      "Setting tilts for 4 experiments\n",
      "First surface model\n",
      "First surface model\n",
      "First surface model\n",
      "First surface model\n",
      "No value for hrz0 supplied. Using value in self.hrz0 = 2.066364301958375.\n",
      "Calculating deposition velocity for each of the 4 simulations\n",
      "Aerodynamic resistance is considered\n",
      "Aerodynamic resistance is considered\n",
      "Aerodynamic resistance is considered\n",
      "Aerodynamic resistance is considered\n",
      "Calculating adhesion/removal balance\n",
      "  No common stow_tilt. Use values in helios.tilt to compute removal moments. This might take some time.\n",
      "  No common stow_tilt. Use values in helios.tilt to compute removal moments. This might take some time.\n",
      "  No common stow_tilt. Use values in helios.tilt to compute removal moments. This might take some time.\n",
      "  No common stow_tilt. Use values in helios.tilt to compute removal moments. This might take some time.\n",
      "Calculating soil deposited in a timestep [m^2/m^2]\n"
     ]
    }
   ],
   "source": [
    "imodel.helios_angles(sim_data_total,reflect_data_total,second_surface=second_surf)\n",
    "imodel.predict_reflectance(sim_data_total)\n",
    "fig,ax,_,_,_  = imodel.plot_soiling_factor(sim_data_total,reflectance_data=reflect_data_total,figsize=(20,20),\n",
    "                                            reflectance_std='measurements',fig_title=training_string,return_handles=True);\n",
    "for e in sim_data_train.time.keys():\n",
    "    for a in ax[:,e]:\n",
    "        a.axvline(x=sim_data_train.time[e][0],ls=':',color='red')\n",
    "        a.axvline(x=sim_data_train.time[e][-1],ls=':',color='red')"
   ]
  }
 ],
 "metadata": {
  "kernelspec": {
   "display_name": "Python 3.9.7 ('soiling-model-env')",
   "language": "python",
   "name": "python3"
  },
  "language_info": {
   "codemirror_mode": {
    "name": "ipython",
    "version": 3
   },
   "file_extension": ".py",
   "mimetype": "text/x-python",
   "name": "python",
   "nbconvert_exporter": "python",
   "pygments_lexer": "ipython3",
   "version": "3.9.7"
  },
  "orig_nbformat": 4,
  "vscode": {
   "interpreter": {
    "hash": "f903996b07b1bc16caf4e2ebd950dc0940e161edb0cb64a3559dc92128d3073c"
   }
  }
 },
 "nbformat": 4,
 "nbformat_minor": 2
}
